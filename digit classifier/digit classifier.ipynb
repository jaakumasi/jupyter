{
 "cells": [
  {
   "cell_type": "code",
   "execution_count": 62,
   "id": "b841c00b",
   "metadata": {},
   "outputs": [
    {
     "name": "stdout",
     "output_type": "stream",
     "text": [
      "Epoch 1/10\n",
      "1875/1875 - 50s - loss: 0.2951 - accuracy: 0.9181 - 50s/epoch - 27ms/step\n",
      "Epoch 2/10\n",
      "1875/1875 - 53s - loss: 0.1977 - accuracy: 0.9486 - 53s/epoch - 28ms/step\n",
      "Epoch 3/10\n",
      "1875/1875 - 52s - loss: 0.1675 - accuracy: 0.9568 - 52s/epoch - 28ms/step\n",
      "Epoch 4/10\n",
      "1875/1875 - 52s - loss: 0.1487 - accuracy: 0.9620 - 52s/epoch - 28ms/step\n",
      "Epoch 5/10\n",
      "1875/1875 - 52s - loss: 0.1350 - accuracy: 0.9665 - 52s/epoch - 28ms/step\n",
      "Epoch 6/10\n",
      "1875/1875 - 52s - loss: 0.1217 - accuracy: 0.9704 - 52s/epoch - 28ms/step\n",
      "Epoch 7/10\n",
      "1875/1875 - 52s - loss: 0.1127 - accuracy: 0.9723 - 52s/epoch - 28ms/step\n",
      "Epoch 8/10\n",
      "1875/1875 - 53s - loss: 0.1182 - accuracy: 0.9721 - 53s/epoch - 28ms/step\n",
      "Epoch 9/10\n",
      "1875/1875 - 54s - loss: 0.1030 - accuracy: 0.9767 - 54s/epoch - 29ms/step\n",
      "Epoch 10/10\n",
      "1875/1875 - 53s - loss: 0.1019 - accuracy: 0.9755 - 53s/epoch - 28ms/step\n",
      "INFO:tensorflow:Assets written to: ./model\\assets\n"
     ]
    }
   ],
   "source": [
    "import tensorflow as tf\n",
    "import keras\n",
    "from keras import layers\n",
    "from keras.datasets import mnist\n",
    "\n",
    "\n",
    "(x_train, y_train), (x_test, y_test) = mnist.load_data()\n",
    "\n",
    "# convert to float32 \n",
    "x_train = x_train.astype('float32');\n",
    "\n",
    "# reshape and normalize\n",
    "x_train = tf.reshape(x_train, [-1, 28 * 28]) / 255.0\n",
    "\n",
    "# define model\n",
    "model = keras.Sequential(\n",
    "    [\n",
    "#         keras.Input(28 * 28),\n",
    "        layers.Dense(512, activation = 'relu'),\n",
    "        layers.Dense(256, activation = 'relu'),\n",
    "        layers.Dense(10 , activation = 'softmax')\n",
    "    ]\n",
    ")\n",
    "\n",
    "# training parameters\n",
    "model.compile(\n",
    "    loss=keras.losses.SparseCategoricalCrossentropy(),\n",
    "    optimizer=keras.optimizers.Adam(0.01),\n",
    "    metrics=['accuracy']\n",
    ")\n",
    "\n",
    "#train model\n",
    "model.fit(x_train, y_train, epochs=10, verbose=2)\n",
    "\n",
    "# save entire model\n",
    "model.save('./model')\n",
    "\n",
    "\n"
   ]
  }
 ],
 "metadata": {
  "kernelspec": {
   "display_name": "Python 3 (ipykernel)",
   "language": "python",
   "name": "python3"
  },
  "language_info": {
   "codemirror_mode": {
    "name": "ipython",
    "version": 3
   },
   "file_extension": ".py",
   "mimetype": "text/x-python",
   "name": "python",
   "nbconvert_exporter": "python",
   "pygments_lexer": "ipython3",
   "version": "3.10.9"
  }
 },
 "nbformat": 4,
 "nbformat_minor": 5
}
